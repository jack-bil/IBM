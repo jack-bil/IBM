{
 "cells": [
  {
   "cell_type": "markdown",
   "id": "ae3636f3-57ee-45b3-b34b-54fd24631f1c",
   "metadata": {},
   "source": [
    "# Data Science Tools and Ecosystem"
   ]
  },
  {
   "cell_type": "markdown",
   "id": "992a4d0e-27d9-4121-9c62-3563cbe52b55",
   "metadata": {},
   "source": [
    "In this notebook, Data Science Tools and Ecosystem are summarized."
   ]
  },
  {
   "cell_type": "markdown",
   "id": "64b09e60-a7fc-4ecf-80a4-b2896b9139f9",
   "metadata": {},
   "source": [
    "Some of the popular languages that Data Scientists use are:\n",
    "1. Python\n",
    "2. R\n",
    "3. SQL\n",
    "4. Scala\n",
    "5. Julia"
   ]
  },
  {
   "cell_type": "markdown",
   "id": "0743e6a0-dbfb-4521-8f31-4e02d62abe31",
   "metadata": {},
   "source": [
    "Some of the commonly used libraries used by Data Scientists include:\n",
    "1. scikit-learn\n",
    "2. Pytorch\n",
    "3. Tensorflow\n",
    "4. Pandas\n",
    "5. numpy\n",
    "6. Seaborn\n",
    "7. Matplotlib\n",
    "8. Keras\n",
    "9. scipy"
   ]
  },
  {
   "cell_type": "markdown",
   "id": "af7db111-abf1-48bd-b2ed-ca9ebdfe57d8",
   "metadata": {},
   "source": [
    "Data Science Tools\n",
    "1. Jupyter lab\n",
    "2. RStudio\n",
    "3. Spyder"
   ]
  },
  {
   "cell_type": "markdown",
   "id": "9ec65193-b626-4b74-9bed-f42c4560d1ac",
   "metadata": {},
   "source": [
    "Below are a few examples of evaluating arithmetic expressions in Python."
   ]
  },
  {
   "cell_type": "code",
   "execution_count": 3,
   "id": "0d27de96-c0c2-43a4-8f3d-02c9ecc3f905",
   "metadata": {},
   "outputs": [
    {
     "data": {
      "text/plain": [
       "17"
      ]
     },
     "execution_count": 3,
     "metadata": {},
     "output_type": "execute_result"
    }
   ],
   "source": [
    "#This a simple arithmetic expression to mutiply then add integers\n",
    "(3*4)+5"
   ]
  },
  {
   "cell_type": "code",
   "execution_count": 5,
   "id": "bef9b0dd-1564-4939-9390-24f124b84e95",
   "metadata": {},
   "outputs": [
    {
     "name": "stdout",
     "output_type": "stream",
     "text": [
      "3.3333333333333335 hours\n"
     ]
    }
   ],
   "source": [
    "#This will convert 200 minutes to hours by diving by 60\n",
    "minutes = 200\n",
    "hours = minutes/60\n",
    "print(hours, \"hours\")"
   ]
  },
  {
   "cell_type": "markdown",
   "id": "82904011-6f0b-42ab-bf90-036734cc8eb5",
   "metadata": {},
   "source": [
    "**Objectives**\n",
    "- Python\n",
    "- R\n",
    "- SQL"
   ]
  },
  {
   "cell_type": "markdown",
   "id": "faee4e90-3c6a-442c-ac70-31393791eff9",
   "metadata": {},
   "source": [
    "## Author\n",
    "Jack"
   ]
  },
  {
   "cell_type": "code",
   "execution_count": null,
   "id": "f4bfced1-9a6b-4ed8-bf36-9cd7f1d1f28d",
   "metadata": {},
   "outputs": [],
   "source": []
  }
 ],
 "metadata": {
  "kernelspec": {
   "display_name": "Python 3 (ipykernel)",
   "language": "python",
   "name": "python3"
  },
  "language_info": {
   "codemirror_mode": {
    "name": "ipython",
    "version": 3
   },
   "file_extension": ".py",
   "mimetype": "text/x-python",
   "name": "python",
   "nbconvert_exporter": "python",
   "pygments_lexer": "ipython3",
   "version": "3.9.6"
  }
 },
 "nbformat": 4,
 "nbformat_minor": 5
}
